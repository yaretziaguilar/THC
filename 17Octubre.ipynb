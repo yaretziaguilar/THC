{
  "nbformat": 4,
  "nbformat_minor": 0,
  "metadata": {
    "colab": {
      "provenance": [],
      "authorship_tag": "ABX9TyP76ah9zJodhADHNXZ0xl1B",
      "include_colab_link": true
    },
    "kernelspec": {
      "name": "python3",
      "display_name": "Python 3"
    },
    "language_info": {
      "name": "python"
    }
  },
  "cells": [
    {
      "cell_type": "markdown",
      "metadata": {
        "id": "view-in-github",
        "colab_type": "text"
      },
      "source": [
        "<a href=\"https://colab.research.google.com/github/yaretziaguilar/THC/blob/main/17Octubre.ipynb\" target=\"_parent\"><img src=\"https://colab.research.google.com/assets/colab-badge.svg\" alt=\"Open In Colab\"/></a>"
      ]
    },
    {
      "cell_type": "code",
      "execution_count": 1,
      "metadata": {
        "id": "IUfVLILJ7Dbn",
        "colab": {
          "base_uri": "https://localhost:8080/"
        },
        "outputId": "1b9ddadf-e875-4160-e8a4-d58cee6a93e6"
      },
      "outputs": [
        {
          "output_type": "stream",
          "name": "stdout",
          "text": [
            "9.486832980505138\n"
          ]
        }
      ],
      "source": [
        "import math\n",
        "p=[3,3]\n",
        "q=[6,12]\n",
        "print(math.dist(p,q)) #Cálcula la distancia"
      ]
    },
    {
      "cell_type": "code",
      "source": [
        "import random\n",
        "random.seed(10)\n",
        "print(random.random())"
      ],
      "metadata": {
        "colab": {
          "base_uri": "https://localhost:8080/"
        },
        "id": "16chhufe8h_z",
        "outputId": "3c1befe3-c299-4f4e-9938-f49b811dd042"
      },
      "execution_count": 2,
      "outputs": [
        {
          "output_type": "stream",
          "name": "stdout",
          "text": [
            "0.5714025946899135\n"
          ]
        }
      ]
    },
    {
      "cell_type": "code",
      "source": [
        "import random\n",
        "\n",
        "print(random.randint(3,9))"
      ],
      "metadata": {
        "colab": {
          "base_uri": "https://localhost:8080/"
        },
        "id": "DDn0_SWI8ufy",
        "outputId": "b585cc4a-94ec-4d02-8fac-98a13b17213d"
      },
      "execution_count": 3,
      "outputs": [
        {
          "output_type": "stream",
          "name": "stdout",
          "text": [
            "6\n"
          ]
        }
      ]
    },
    {
      "cell_type": "code",
      "source": [
        "import random\n",
        "mylist=[\"apple\", \"banana\", \"cherry\"]\n",
        "print(random.choice(mylist))"
      ],
      "metadata": {
        "colab": {
          "base_uri": "https://localhost:8080/"
        },
        "id": "GXJuCTgW8w1b",
        "outputId": "d519b9d5-5b95-4e73-a6c4-7ce7a9ca84e7"
      },
      "execution_count": 4,
      "outputs": [
        {
          "output_type": "stream",
          "name": "stdout",
          "text": [
            "banana\n"
          ]
        }
      ]
    },
    {
      "cell_type": "code",
      "source": [
        "A=[[1,2,3],[4,5,6],[7,8,9]]\n",
        "B=[[10,11,12],[12,14,15],[16,17,18]]\n",
        "print(B)\n",
        "print(A[0][0])\n",
        "print(A[0][1])\n",
        "print(A[0][2])\n"
      ],
      "metadata": {
        "colab": {
          "base_uri": "https://localhost:8080/"
        },
        "id": "kec1a13Y9AeC",
        "outputId": "f7962ae9-03b8-4ac4-d463-3368701db252"
      },
      "execution_count": 6,
      "outputs": [
        {
          "output_type": "stream",
          "name": "stdout",
          "text": [
            "[[10, 11, 12], [12, 14, 15], [16, 17, 18]]\n",
            "1\n",
            "2\n",
            "3\n"
          ]
        }
      ]
    },
    {
      "cell_type": "code",
      "source": [
        "B=[[10,11,12],[12,14,15],[16,17,18]]\n",
        "for i in range(len(B)):\n",
        "  print(B[0][i])"
      ],
      "metadata": {
        "colab": {
          "base_uri": "https://localhost:8080/"
        },
        "id": "Xa21-8Za9Rdf",
        "outputId": "c60e9821-0a2f-46dd-a073-3c06cece8688"
      },
      "execution_count": 7,
      "outputs": [
        {
          "output_type": "stream",
          "name": "stdout",
          "text": [
            "10\n",
            "11\n",
            "12\n"
          ]
        }
      ]
    },
    {
      "cell_type": "code",
      "source": [
        "B=[[10,11,12],[12,14,15],[16,17,18]]\n",
        "for i in range(len(B)):\n",
        "  print(B[1][i])"
      ],
      "metadata": {
        "colab": {
          "base_uri": "https://localhost:8080/"
        },
        "id": "W6BrjvSK9Uzv",
        "outputId": "50dcb4f8-6885-4300-8333-3b8ed0381e9e"
      },
      "execution_count": 8,
      "outputs": [
        {
          "output_type": "stream",
          "name": "stdout",
          "text": [
            "12\n",
            "14\n",
            "15\n"
          ]
        }
      ]
    },
    {
      "cell_type": "code",
      "source": [
        "B=[[10,11,12],[12,14,15],[16,17,18]]\n",
        "for i in range(len(B)):\n",
        "  print(B[i][0])"
      ],
      "metadata": {
        "colab": {
          "base_uri": "https://localhost:8080/"
        },
        "id": "9u8M6Nri9XTZ",
        "outputId": "e71a45bc-6f9e-4ce9-bcf9-973309e30e22"
      },
      "execution_count": 9,
      "outputs": [
        {
          "output_type": "stream",
          "name": "stdout",
          "text": [
            "10\n",
            "12\n",
            "16\n"
          ]
        }
      ]
    },
    {
      "cell_type": "code",
      "source": [
        "A=[[1,2,3],[4,5,6],[7,8,9]]\n",
        "for i in range(len(A)):\n",
        "  print(A[i])"
      ],
      "metadata": {
        "colab": {
          "base_uri": "https://localhost:8080/"
        },
        "id": "MaTbZKtc9and",
        "outputId": "0c23fc85-c188-4ab2-940d-ab417b026120"
      },
      "execution_count": 10,
      "outputs": [
        {
          "output_type": "stream",
          "name": "stdout",
          "text": [
            "[1, 2, 3]\n",
            "[4, 5, 6]\n",
            "[7, 8, 9]\n"
          ]
        }
      ]
    },
    {
      "cell_type": "code",
      "source": [
        "A=[[1,2,3],[4,5,6],[7,8,9]]\n",
        "for i in range(len(A)):\n",
        "  for j in range(len(A)):\n",
        "    print(A[i][j])"
      ],
      "metadata": {
        "colab": {
          "base_uri": "https://localhost:8080/"
        },
        "id": "fpwO8t4P9dZ0",
        "outputId": "715432e5-5405-4897-8230-880c64b31acb"
      },
      "execution_count": 11,
      "outputs": [
        {
          "output_type": "stream",
          "name": "stdout",
          "text": [
            "1\n",
            "2\n",
            "3\n",
            "4\n",
            "5\n",
            "6\n",
            "7\n",
            "8\n",
            "9\n"
          ]
        }
      ]
    },
    {
      "cell_type": "code",
      "source": [
        "A=[[1,2,3],[4,5,6],[7,8,9]]\n",
        "for i in range(len(A)):\n",
        "  for j in range(len(A)):\n",
        "    print(A[j][i])"
      ],
      "metadata": {
        "colab": {
          "base_uri": "https://localhost:8080/"
        },
        "id": "7hqjszE59gZd",
        "outputId": "f69b5ecb-0bc9-4dbd-aed7-6f66f5bd8baf"
      },
      "execution_count": 12,
      "outputs": [
        {
          "output_type": "stream",
          "name": "stdout",
          "text": [
            "1\n",
            "4\n",
            "7\n",
            "2\n",
            "5\n",
            "8\n",
            "3\n",
            "6\n",
            "9\n"
          ]
        }
      ]
    },
    {
      "cell_type": "code",
      "source": [
        "A=[[1,2,3],[4,5,6],[7,8,9]]\n",
        "B=[[10,11,12],[12,14,15],[16,17,18]]\n",
        "for i in range(len(A)):\n",
        "  for j in range(len(A)):\n",
        "    print(A[i][j]+B[i][j])"
      ],
      "metadata": {
        "colab": {
          "base_uri": "https://localhost:8080/"
        },
        "id": "WoStksux-5yc",
        "outputId": "845d0098-c443-459a-9ce2-ea390036f784"
      },
      "execution_count": 13,
      "outputs": [
        {
          "output_type": "stream",
          "name": "stdout",
          "text": [
            "11\n",
            "13\n",
            "15\n",
            "16\n",
            "19\n",
            "21\n",
            "23\n",
            "25\n",
            "27\n"
          ]
        }
      ]
    },
    {
      "cell_type": "code",
      "source": [
        "A=[[1,2,3],[4,5,6],[7,8,9]]\n",
        "B=[[10,11,12],[12,14,15],[16,17,18]]\n",
        "for i in range(len(A)):\n",
        "  for j in range(len(A)):\n",
        "    print(A[i][j]*B[i][j])"
      ],
      "metadata": {
        "colab": {
          "base_uri": "https://localhost:8080/"
        },
        "id": "k8keDSbAAKgS",
        "outputId": "99c28aa8-f902-4bc4-c4cb-aea4dfcbcbea"
      },
      "execution_count": 14,
      "outputs": [
        {
          "output_type": "stream",
          "name": "stdout",
          "text": [
            "10\n",
            "22\n",
            "36\n",
            "48\n",
            "70\n",
            "90\n",
            "112\n",
            "136\n",
            "162\n"
          ]
        }
      ]
    },
    {
      "cell_type": "code",
      "source": [
        "A=[5,3,1]\n",
        "for i in range(len(A)):\n",
        "  if (i>A[1]):\n",
        "   def mifunc(n):\n",
        "    return lambda(A[i]=A[0])\n",
        "mifunc(i)"
      ],
      "metadata": {
        "colab": {
          "base_uri": "https://localhost:8080/",
          "height": 140
        },
        "id": "e6Kvf5RZATPC",
        "outputId": "c417c29a-707c-4419-f14e-258b4fbffed3"
      },
      "execution_count": 24,
      "outputs": [
        {
          "output_type": "error",
          "ename": "SyntaxError",
          "evalue": "ignored",
          "traceback": [
            "\u001b[0;36m  File \u001b[0;32m\"<ipython-input-24-decc46d0effc>\"\u001b[0;36m, line \u001b[0;32m5\u001b[0m\n\u001b[0;31m    return lambda(A[0])\u001b[0m\n\u001b[0m                 ^\u001b[0m\n\u001b[0;31mSyntaxError\u001b[0m\u001b[0;31m:\u001b[0m invalid syntax\n"
          ]
        }
      ]
    },
    {
      "cell_type": "code",
      "source": [
        "A=[5,3,1]\n",
        "for i in range(len(A)):\n",
        "  if (A[i]>A[i+1]):\n",
        "    print(A)\n",
        "  if (A[i]>A[i-1]):\n",
        "     print(A)\n"
      ],
      "metadata": {
        "colab": {
          "base_uri": "https://localhost:8080/",
          "height": 297
        },
        "id": "6MJ-BFuPFVGi",
        "outputId": "17108ba1-f85f-4263-fd42-afab04ef8213"
      },
      "execution_count": 30,
      "outputs": [
        {
          "output_type": "stream",
          "name": "stdout",
          "text": [
            "[5, 3, 1]\n",
            "[5, 3, 1]\n",
            "[5, 3, 1]\n"
          ]
        },
        {
          "output_type": "error",
          "ename": "IndexError",
          "evalue": "ignored",
          "traceback": [
            "\u001b[0;31m---------------------------------------------------------------------------\u001b[0m",
            "\u001b[0;31mIndexError\u001b[0m                                Traceback (most recent call last)",
            "\u001b[0;32m<ipython-input-30-388fefb5486a>\u001b[0m in \u001b[0;36m<cell line: 2>\u001b[0;34m()\u001b[0m\n\u001b[1;32m      1\u001b[0m \u001b[0mA\u001b[0m\u001b[0;34m=\u001b[0m\u001b[0;34m[\u001b[0m\u001b[0;36m5\u001b[0m\u001b[0;34m,\u001b[0m\u001b[0;36m3\u001b[0m\u001b[0;34m,\u001b[0m\u001b[0;36m1\u001b[0m\u001b[0;34m]\u001b[0m\u001b[0;34m\u001b[0m\u001b[0;34m\u001b[0m\u001b[0m\n\u001b[1;32m      2\u001b[0m \u001b[0;32mfor\u001b[0m \u001b[0mi\u001b[0m \u001b[0;32min\u001b[0m \u001b[0mrange\u001b[0m\u001b[0;34m(\u001b[0m\u001b[0mlen\u001b[0m\u001b[0;34m(\u001b[0m\u001b[0mA\u001b[0m\u001b[0;34m)\u001b[0m\u001b[0;34m)\u001b[0m\u001b[0;34m:\u001b[0m\u001b[0;34m\u001b[0m\u001b[0;34m\u001b[0m\u001b[0m\n\u001b[0;32m----> 3\u001b[0;31m   \u001b[0;32mif\u001b[0m \u001b[0;34m(\u001b[0m\u001b[0mA\u001b[0m\u001b[0;34m[\u001b[0m\u001b[0mi\u001b[0m\u001b[0;34m]\u001b[0m\u001b[0;34m>\u001b[0m\u001b[0mA\u001b[0m\u001b[0;34m[\u001b[0m\u001b[0mi\u001b[0m\u001b[0;34m+\u001b[0m\u001b[0;36m1\u001b[0m\u001b[0;34m]\u001b[0m\u001b[0;34m)\u001b[0m\u001b[0;34m:\u001b[0m\u001b[0;34m\u001b[0m\u001b[0;34m\u001b[0m\u001b[0m\n\u001b[0m\u001b[1;32m      4\u001b[0m     \u001b[0mprint\u001b[0m\u001b[0;34m(\u001b[0m\u001b[0mA\u001b[0m\u001b[0;34m)\u001b[0m\u001b[0;34m\u001b[0m\u001b[0;34m\u001b[0m\u001b[0m\n\u001b[1;32m      5\u001b[0m   \u001b[0;32mif\u001b[0m \u001b[0;34m(\u001b[0m\u001b[0mA\u001b[0m\u001b[0;34m[\u001b[0m\u001b[0mi\u001b[0m\u001b[0;34m]\u001b[0m\u001b[0;34m>\u001b[0m\u001b[0mA\u001b[0m\u001b[0;34m[\u001b[0m\u001b[0mi\u001b[0m\u001b[0;34m-\u001b[0m\u001b[0;36m1\u001b[0m\u001b[0;34m]\u001b[0m\u001b[0;34m)\u001b[0m\u001b[0;34m:\u001b[0m\u001b[0;34m\u001b[0m\u001b[0;34m\u001b[0m\u001b[0m\n",
            "\u001b[0;31mIndexError\u001b[0m: list index out of range"
          ]
        }
      ]
    },
    {
      "cell_type": "code",
      "source": [
        "A=[5,3,1]\n",
        "n=len(A)\n",
        "for i in range(n-1):\n",
        "  if (A[i]>A[i+1]):\n",
        "    print(A)\n",
        "    aux=A[i+1]\n",
        "    A[i+1]=A[i]\n",
        "    A[i]=aux\n",
        "    print(A)"
      ],
      "metadata": {
        "colab": {
          "base_uri": "https://localhost:8080/"
        },
        "id": "k-XApZ5BG8x_",
        "outputId": "5c6fa024-280d-4c94-f8c1-a34f58a8bf6d"
      },
      "execution_count": 32,
      "outputs": [
        {
          "output_type": "stream",
          "name": "stdout",
          "text": [
            "[5, 3, 1]\n",
            "[3, 5, 1]\n",
            "[3, 5, 1]\n",
            "[3, 1, 5]\n"
          ]
        }
      ]
    }
  ]
}