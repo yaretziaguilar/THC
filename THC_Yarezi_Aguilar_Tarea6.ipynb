{
  "nbformat": 4,
  "nbformat_minor": 0,
  "metadata": {
    "colab": {
      "provenance": [],
      "authorship_tag": "ABX9TyMfqBLmIPdwcEnQCfAHHY5f",
      "include_colab_link": true
    },
    "kernelspec": {
      "name": "python3",
      "display_name": "Python 3"
    },
    "language_info": {
      "name": "python"
    }
  },
  "cells": [
    {
      "cell_type": "markdown",
      "metadata": {
        "id": "view-in-github",
        "colab_type": "text"
      },
      "source": [
        "<a href=\"https://colab.research.google.com/github/yaretziaguilar/THC/blob/main/THC_Yarezi_Aguilar_Tarea6.ipynb\" target=\"_parent\"><img src=\"https://colab.research.google.com/assets/colab-badge.svg\" alt=\"Open In Colab\"/></a>"
      ]
    },
    {
      "cell_type": "code",
      "execution_count": 6,
      "metadata": {
        "colab": {
          "base_uri": "https://localhost:8080/"
        },
        "id": "_E9__3XnE5QF",
        "outputId": "803dfdf9-f8d9-4653-d27c-1355a2ae3b37"
      },
      "outputs": [
        {
          "output_type": "stream",
          "name": "stdout",
          "text": [
            "[25, 0.0]\n",
            "[25, 72]\n"
          ]
        }
      ],
      "source": [
        "A=(5,9)\n",
        "B=(5,8)\n",
        "def producto_vec(A,B):\n",
        "  if len(A)==len(B):\n",
        "     n=len(A)\n",
        "     C=n*[0.0]\n",
        "     for i in range(n):\n",
        "      C[i]=A[i]* B[i]\n",
        "      print(C)\n",
        "  else:\n",
        "    print(\"No es posible\")\n",
        "producto_vec(A,B)"
      ]
    },
    {
      "cell_type": "code",
      "source": [
        "A=(5,9)\n",
        "B=(5,8)\n",
        "def producto_esc(A,B):\n",
        "  if len(A)==len(B):\n",
        "     C=0\n",
        "     for i in range(len(A)):\n",
        "        C+=A[i]* B[i]\n",
        "  return(C)\n",
        "a=producto_esc(A,B)\n",
        "print(a)"
      ],
      "metadata": {
        "colab": {
          "base_uri": "https://localhost:8080/"
        },
        "id": "Z52QSLSQPndx",
        "outputId": "093d197d-2f91-400b-848c-1fb8b7c321b8"
      },
      "execution_count": 38,
      "outputs": [
        {
          "output_type": "stream",
          "name": "stdout",
          "text": [
            "97\n"
          ]
        }
      ]
    },
    {
      "cell_type": "code",
      "source": [
        "A=(5,9)\n",
        "B=(5,8)\n",
        "def pot_vec(A,B):\n",
        "  if len(A)==len(B):\n",
        "     n=len(A)\n",
        "     C=n*[0.0]\n",
        "     for i in range(n):\n",
        "      C[i]=((A[i]+B[i])**3)\n",
        "\n",
        "      print(C)\n",
        "  else:\n",
        "    print(\"No es posible\")\n",
        "pot_vec(A,B)"
      ],
      "metadata": {
        "colab": {
          "base_uri": "https://localhost:8080/"
        },
        "id": "v9E9Q-PTYLnO",
        "outputId": "c68cfcfd-0df3-4d66-8e4f-a13015fa249f"
      },
      "execution_count": 42,
      "outputs": [
        {
          "output_type": "stream",
          "name": "stdout",
          "text": [
            "[1000, 0.0]\n",
            "[1000, 4913]\n"
          ]
        }
      ]
    }
  ]
}