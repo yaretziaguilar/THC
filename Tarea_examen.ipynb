{
  "nbformat": 4,
  "nbformat_minor": 0,
  "metadata": {
    "colab": {
      "provenance": [],
      "authorship_tag": "ABX9TyOjOZt6+0loD/gG+bMr6yxX",
      "include_colab_link": true
    },
    "kernelspec": {
      "name": "python3",
      "display_name": "Python 3"
    },
    "language_info": {
      "name": "python"
    }
  },
  "cells": [
    {
      "cell_type": "markdown",
      "metadata": {
        "id": "view-in-github",
        "colab_type": "text"
      },
      "source": [
        "<a href=\"https://colab.research.google.com/github/yaretziaguilar/THC/blob/main/Tarea_examen.ipynb\" target=\"_parent\"><img src=\"https://colab.research.google.com/assets/colab-badge.svg\" alt=\"Open In Colab\"/></a>"
      ]
    },
    {
      "cell_type": "code",
      "source": [
        "#El producto de matrices\n",
        "A=[[1,2,3],[4,5,6],[7,8,9]]\n",
        "B=[[10,11,12],[12,14,15],[16,17,18]]\n",
        "for i in range(len(A)):\n",
        " for j in range(len(A)):\n",
        "  print(A[i][j]*B[i][j])"
      ],
      "metadata": {
        "colab": {
          "base_uri": "https://localhost:8080/"
        },
        "id": "WnwZmLReUbo_",
        "outputId": "873c66df-18a7-4cbc-8fc4-7faa3d8a9da8"
      },
      "execution_count": null,
      "outputs": [
        {
          "output_type": "stream",
          "name": "stdout",
          "text": [
            "10\n",
            "22\n",
            "36\n",
            "48\n",
            "70\n",
            "90\n",
            "112\n",
            "136\n",
            "162\n"
          ]
        }
      ]
    },
    {
      "cell_type": "code",
      "source": [],
      "metadata": {
        "id": "hV-aQvNJ5kNQ"
      },
      "execution_count": null,
      "outputs": []
    },
    {
      "cell_type": "code",
      "source": [
        "#transpuesta\n",
        "a=[[1,2,3],[4,5,6],[7,8,9]]\n",
        "for i in range(len(a)):\n",
        "  for j in range(len(a)):\n",
        "   p=a[j][i]\n",
        "   u=a[i][j]\n",
        "   aux=p\n",
        "   p=u\n",
        "   u=aux\n",
        "   print(aux)"
      ],
      "metadata": {
        "colab": {
          "base_uri": "https://localhost:8080/"
        },
        "id": "MJpER-HcM0Wa",
        "outputId": "2f789d45-62e8-4e81-b45b-10d293dba88a"
      },
      "execution_count": null,
      "outputs": [
        {
          "output_type": "stream",
          "name": "stdout",
          "text": [
            "1\n",
            "4\n",
            "7\n",
            "2\n",
            "5\n",
            "8\n",
            "3\n",
            "6\n",
            "9\n"
          ]
        }
      ]
    },
    {
      "cell_type": "code",
      "source": [
        "#La potencia de las matrices\n",
        "a=[[1,2,3],[4,5,6],[7,8,9]]\n",
        "def Potencia(a,n):\n",
        "   for i in range(len(a)):\n",
        "     a[i]=a[i]**n\n",
        "   print(a)\n",
        "Potencia(a[0],2)\n",
        "Potencia(a[1],2)\n",
        "Potencia(a[2],2)\n",
        "\n",
        "b=[[3,5,7],[2,8.1],[9,4,6]]\n",
        "def Potencia(b,n):\n",
        "   for i in range(len(b)):\n",
        "     b[i]=b[i]**n\n",
        "   print(b)\n",
        "Potencia(b[0],2)\n",
        "Potencia(b[1],2)\n",
        "Potencia(b[2],2)\n"
      ],
      "metadata": {
        "colab": {
          "base_uri": "https://localhost:8080/"
        },
        "id": "9h62oZzHiZow",
        "outputId": "fc194bfd-373f-4ad3-8d46-9ca88c3e6f0d"
      },
      "execution_count": null,
      "outputs": [
        {
          "output_type": "stream",
          "name": "stdout",
          "text": [
            "[1, 4, 9]\n",
            "[16, 25, 36]\n",
            "[49, 64, 81]\n",
            "[9, 25, 49]\n",
            "[4, 65.61]\n",
            "[81, 16, 36]\n"
          ]
        }
      ]
    },
    {
      "cell_type": "code",
      "source": [
        "#La suma de los cuadrados de cada entrada de la matriz\n",
        "a=[[1,2,3],[4,5,6],[7,8,9]]\n",
        "b=[[3,5,7],[2,8,1],[9,4,6]]\n",
        "for i in range(len(a)):\n",
        "  a1=(a[0][i]**2)\n",
        "  a2=(a[1][i]**2)\n",
        "  a3=(a[2][i]**2)\n",
        "\n",
        "  b1=(b[0][i]**2)\n",
        "  b2=(b[1][i]**2)\n",
        "  b3=(b[2][i]**2)\n",
        "\n",
        "  print(a1+b1)\n",
        "  print(a2+b2)\n",
        "  print(a3+b3)\n"
      ],
      "metadata": {
        "colab": {
          "base_uri": "https://localhost:8080/"
        },
        "id": "IjCJzOboqtk2",
        "outputId": "5f24061b-08e5-4fc4-8be6-51141b6b7156"
      },
      "execution_count": null,
      "outputs": [
        {
          "output_type": "stream",
          "name": "stdout",
          "text": [
            "10\n",
            "20\n",
            "130\n",
            "29\n",
            "89\n",
            "80\n",
            "58\n",
            "37\n",
            "117\n"
          ]
        }
      ]
    },
    {
      "cell_type": "code",
      "source": [
        "a=[[1,2,3],[4,5,6],[7,8,9]]\n",
        "b=[[3,5,7],[2,8,1],[9,4,6]]\n",
        "for i in range(len(a)):\n",
        "  for j in range(len(a)):\n",
        "    A=a[i][j]**2\n",
        "    B=b[i][j]**2\n",
        "    print(A+B)"
      ],
      "metadata": {
        "colab": {
          "base_uri": "https://localhost:8080/"
        },
        "id": "MJOxiFfr05k6",
        "outputId": "7e0947e6-63ca-4892-912e-953de39992d8"
      },
      "execution_count": null,
      "outputs": [
        {
          "output_type": "stream",
          "name": "stdout",
          "text": [
            "10\n",
            "29\n",
            "58\n",
            "20\n",
            "89\n",
            "37\n",
            "130\n",
            "80\n",
            "117\n"
          ]
        }
      ]
    }
  ]
}