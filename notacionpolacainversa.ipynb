{
  "nbformat": 4,
  "nbformat_minor": 0,
  "metadata": {
    "colab": {
      "provenance": [],
      "authorship_tag": "ABX9TyP85geThKrJyk19YnPgIre4",
      "include_colab_link": true
    },
    "kernelspec": {
      "name": "python3",
      "display_name": "Python 3"
    },
    "language_info": {
      "name": "python"
    }
  },
  "cells": [
    {
      "cell_type": "markdown",
      "metadata": {
        "id": "view-in-github",
        "colab_type": "text"
      },
      "source": [
        "<a href=\"https://colab.research.google.com/github/yaretziaguilar/THC/blob/main/notacionpolacainversa.ipynb\" target=\"_parent\"><img src=\"https://colab.research.google.com/assets/colab-badge.svg\" alt=\"Open In Colab\"/></a>"
      ]
    },
    {
      "cell_type": "code",
      "execution_count": 1,
      "metadata": {
        "colab": {
          "base_uri": "https://localhost:8080/"
        },
        "id": "EqRBBUcYNkL3",
        "outputId": "e7429ce5-2ce9-48b8-cad8-433faa47ee52"
      },
      "outputs": [
        {
          "output_type": "stream",
          "name": "stdout",
          "text": [
            "Bienvenido, por favor escriba una expresión algebraica: 3 * ( 1 + 3 ) ** 2,\n",
            "La notación polaca inversa de su expresión algebrica es: 3   1  3 +  2,** * \n"
          ]
        }
      ],
      "source": [
        "\"\"\" PRACTICA NOTACIÓN POLACA INVERSA:\n",
        "\n",
        "INTEGRANTES:\n",
        "-Almaraz Hérnandez María de los Angeles\n",
        "-Aguilar Gomez Yaretzi Guadalupe\n",
        "-Pelaez Ventura Rocio\n",
        "\"\"\"\n",
        "\n",
        "#Definimos nuestras funciones:\n",
        "\n",
        "#Aqui definimos nuestros operadores.\n",
        "def operador(caracter):\n",
        "  return caracter in {\"+\", \"-\", \"*\",\"/\",\"^\", \"(\", \")\",}\n",
        "\n",
        "#Aqui la jerarquia que se le va a dar.\n",
        "def jerarquia(caracter):\n",
        "  if not operador(caracter):\n",
        "    return 0\n",
        "  elif caracter in {\"+\", \"-\"}:\n",
        "    return 1\n",
        "  elif caracter in {\"*\", \"/\"}:\n",
        "    return 2\n",
        "  elif caracter in {\"^\"}:\n",
        "    return 3\n",
        "  elif caracter in {\"(\", \")\"}:\n",
        "    return 4\n",
        "\n",
        "#Como la potencia se de izquierda a derecha, la voltearemos.\n",
        "def asocia_derecha(caracter):\n",
        "  return caracter == \"^\"\n",
        "\n",
        "#Creamos nustras variables vacias, pila es para nuestros operadores\n",
        "pila = []\n",
        "\n",
        "#salida es para nuestra expresion final.\n",
        "salida = \"\"\n",
        "\n",
        "#Creamos nuestro input.\n",
        "entrada = input(\"Bienvenido, por favor escriba una expresión algebraica: \")\n",
        "\n",
        "#Y sustituimos nuestro \"**\"\n",
        "entrada = entrada.replace('**', '^')\n",
        "\n",
        "if __name__ == \"__main__\":\n",
        " #Creamos un ciclo for para poder ir iterando sobre la entrada\n",
        " for caracter in entrada:\n",
        "  #Le damos instrucción de que si es un digito entonces se agrege a la salida\n",
        "  if not operador(caracter):\n",
        "      salida += caracter\n",
        "  #Caso contrario damos las instrucciones a cumplir si es un operador o un parentesis\n",
        "  elif caracter in{'+','-','*','/','^','(',')'}:\n",
        "      if caracter in {'+','-','*','/','^'}:\n",
        "        #Mientras se cumplan las primeras condiciones y no haya \"(\"\n",
        "        while (len(pila) and (jerarquia(pila[-1]) >= jerarquia(caracter)) and not asocia_derecha(caracter) and pila[-1] != '('):\n",
        "          salida += (pila.pop())\n",
        "        pila.append(caracter)\n",
        "        #Ahora bien, si el caracter es igual a \"(\" entonces se agrega a la pila\n",
        "      elif caracter == '(':\n",
        "            pila.append(caracter)\n",
        "      #Si sucede que el caracter es igual a \")\"\n",
        "      elif caracter == ')':\n",
        "        #Entonces mientras no haya otro parentesis izquierdo se van a agregar los operadores a la salida\n",
        "        while (len(pila) and pila[-1] not in{'('}):\n",
        "          salida += (pila.pop())\n",
        "        #Van saliendo los operadores de la pila\n",
        "        pila.pop()\n",
        "\n",
        "#Ciclo para poder terminar de sacar los operadores que hay en la pila\n",
        "while pila:\n",
        "    salida += (pila.pop())\n",
        "\n",
        "#Reemplazamos ^ por **:\n",
        "salida = salida.replace('^','** ')\n",
        "print(f\"La notación polaca inversa de su expresión algebrica es: {salida} \")"
      ]
    },
    {
      "cell_type": "code",
      "source": [],
      "metadata": {
        "id": "3FHVNooYN8s_"
      },
      "execution_count": null,
      "outputs": []
    }
  ]
}