{
  "nbformat": 4,
  "nbformat_minor": 0,
  "metadata": {
    "colab": {
      "provenance": [],
      "include_colab_link": true
    },
    "kernelspec": {
      "name": "python3",
      "display_name": "Python 3"
    },
    "language_info": {
      "name": "python"
    }
  },
  "cells": [
    {
      "cell_type": "markdown",
      "metadata": {
        "id": "view-in-github",
        "colab_type": "text"
      },
      "source": [
        "<a href=\"https://colab.research.google.com/github/yaretziaguilar/THC/blob/main/12octubre.ipynb\" target=\"_parent\"><img src=\"https://colab.research.google.com/assets/colab-badge.svg\" alt=\"Open In Colab\"/></a>"
      ]
    },
    {
      "cell_type": "code",
      "execution_count": null,
      "metadata": {
        "id": "a5FicrL5FIof"
      },
      "outputs": [],
      "source": [
        "# Yaretzi Guadalupe Aguilar Gómez\n",
        "# Rocio Pelaez Ventura"
      ]
    },
    {
      "cell_type": "code",
      "source": [
        "def mi_funcion(x):\n",
        "  pass"
      ],
      "metadata": {
        "id": "0sQigDnWFOry"
      },
      "execution_count": null,
      "outputs": []
    },
    {
      "cell_type": "code",
      "source": [
        "numbers= [5, 12, 8, 3]\n",
        "max_num= max(numbers)\n",
        "min_num= min(numbers)\n",
        "print(max_num, min_num )"
      ],
      "metadata": {
        "colab": {
          "base_uri": "https://localhost:8080/"
        },
        "id": "o6c2wCgfFdjf",
        "outputId": "913b4d76-6700-41d3-90c1-2a04b962d759"
      },
      "execution_count": null,
      "outputs": [
        {
          "output_type": "stream",
          "name": "stdout",
          "text": [
            "12 3\n"
          ]
        }
      ]
    },
    {
      "cell_type": "code",
      "source": [
        "x= lambda a: a +10\n",
        "print(x(5))"
      ],
      "metadata": {
        "colab": {
          "base_uri": "https://localhost:8080/"
        },
        "id": "Aw85X_GKGEC9",
        "outputId": "9c85da6e-2207-4b27-d87d-eb77f3a08a1c"
      },
      "execution_count": null,
      "outputs": [
        {
          "output_type": "stream",
          "name": "stdout",
          "text": [
            "15\n"
          ]
        }
      ]
    },
    {
      "cell_type": "code",
      "source": [
        "x=lambda a, b, c: a+b+c\n",
        "print(x(5,6,8))"
      ],
      "metadata": {
        "colab": {
          "base_uri": "https://localhost:8080/"
        },
        "id": "C6euN_TlGnYm",
        "outputId": "faa72caf-ba54-4f59-83ec-59e01e3668bc"
      },
      "execution_count": null,
      "outputs": [
        {
          "output_type": "stream",
          "name": "stdout",
          "text": [
            "19\n"
          ]
        }
      ]
    },
    {
      "cell_type": "code",
      "source": [
        "def mifunc(n):\n",
        "  return lambda a: a*n\n",
        "midoble=mifunc(2)\n",
        "print(midoble(11))\n"
      ],
      "metadata": {
        "colab": {
          "base_uri": "https://localhost:8080/"
        },
        "id": "_jSZrbZRG4-S",
        "outputId": "14dad6c2-f3b3-417c-be3d-abaa03744e64"
      },
      "execution_count": null,
      "outputs": [
        {
          "output_type": "stream",
          "name": "stdout",
          "text": [
            "22\n"
          ]
        }
      ]
    },
    {
      "cell_type": "code",
      "source": [
        "def mifunc(n):\n",
        "  return lambda a: a*n\n",
        "midoble=mifunc(2)\n",
        "mitriple= mifunc(3)\n",
        "\n",
        "print(midoble(11))\n",
        "print(mitriple(11))"
      ],
      "metadata": {
        "colab": {
          "base_uri": "https://localhost:8080/"
        },
        "id": "VUrcIsDSITxM",
        "outputId": "6566a132-db1f-4308-a3ff-024c1a901039"
      },
      "execution_count": null,
      "outputs": [
        {
          "output_type": "stream",
          "name": "stdout",
          "text": [
            "22\n",
            "33\n"
          ]
        }
      ]
    },
    {
      "cell_type": "code",
      "source": [
        "num= list(range(1,101))\n",
        "for i in num:\n",
        "  if  (i%2==0):\n",
        "    def mifunc(n):\n",
        "      return lambda i:  i\n",
        "    print(i)"
      ],
      "metadata": {
        "colab": {
          "base_uri": "https://localhost:8080/"
        },
        "id": "iCJY-ohZM6vm",
        "outputId": "2b9c975b-1a6b-4f6b-8933-22d17e81e8ec"
      },
      "execution_count": null,
      "outputs": [
        {
          "output_type": "stream",
          "name": "stdout",
          "text": [
            "2\n",
            "4\n",
            "6\n",
            "8\n",
            "10\n",
            "12\n",
            "14\n",
            "16\n",
            "18\n",
            "20\n",
            "22\n",
            "24\n",
            "26\n",
            "28\n",
            "30\n",
            "32\n",
            "34\n",
            "36\n",
            "38\n",
            "40\n",
            "42\n",
            "44\n",
            "46\n",
            "48\n",
            "50\n",
            "52\n",
            "54\n",
            "56\n",
            "58\n",
            "60\n",
            "62\n",
            "64\n",
            "66\n",
            "68\n",
            "70\n",
            "72\n",
            "74\n",
            "76\n",
            "78\n",
            "80\n",
            "82\n",
            "84\n",
            "86\n",
            "88\n",
            "90\n",
            "92\n",
            "94\n",
            "96\n",
            "98\n",
            "100\n"
          ]
        }
      ]
    },
    {
      "cell_type": "code",
      "source": [
        "A= [[1,2,3],[4,5,6],[7,8,9]]\n",
        "print(A)"
      ],
      "metadata": {
        "colab": {
          "base_uri": "https://localhost:8080/"
        },
        "id": "iURr-CEpUnLu",
        "outputId": "12ca04a8-a397-4e67-a7bf-cb461eab4e55"
      },
      "execution_count": null,
      "outputs": [
        {
          "output_type": "stream",
          "name": "stdout",
          "text": [
            "[[1, 2, 3], [4, 5, 6], [7, 8, 9]]\n"
          ]
        }
      ]
    },
    {
      "cell_type": "code",
      "source": [
        "A= [[1,2,3],[4,5,6],[7,8,9]]\n",
        "print(A[1][0])"
      ],
      "metadata": {
        "colab": {
          "base_uri": "https://localhost:8080/"
        },
        "id": "fZvva73nVa_J",
        "outputId": "6e2bc37c-2180-483d-f83b-dd3d3063fb56"
      },
      "execution_count": null,
      "outputs": [
        {
          "output_type": "stream",
          "name": "stdout",
          "text": [
            "4\n"
          ]
        }
      ]
    },
    {
      "cell_type": "code",
      "source": [
        "A= [[1,2,3],[4,5,6],[7,8,9]]\n",
        "for j in  range(len(A)):\n",
        " print(A[0][j])\n",
        "\n"
      ],
      "metadata": {
        "colab": {
          "base_uri": "https://localhost:8080/"
        },
        "id": "mtfs9h2VV2gv",
        "outputId": "04a98f5e-6014-4675-c562-5d5d0da15b6b"
      },
      "execution_count": null,
      "outputs": [
        {
          "output_type": "stream",
          "name": "stdout",
          "text": [
            "1\n",
            "2\n",
            "3\n"
          ]
        }
      ]
    },
    {
      "cell_type": "code",
      "source": [
        "A= [[1,2,3],[4,5,6],[7,8,9]]\n",
        "for j in  range(len(A)):\n",
        " print(A[j][0])"
      ],
      "metadata": {
        "colab": {
          "base_uri": "https://localhost:8080/"
        },
        "id": "QOo2DSnGWWGz",
        "outputId": "5ff0248f-0708-4be1-d399-b3ad38eccdd5"
      },
      "execution_count": null,
      "outputs": [
        {
          "output_type": "stream",
          "name": "stdout",
          "text": [
            "1\n",
            "4\n",
            "7\n"
          ]
        }
      ]
    },
    {
      "cell_type": "code",
      "source": [
        "A= [[1,2,3],[4,5,6],[7,8,9]]\n",
        "for i in  range(len(A)):\n",
        "  for j in range(len(A)):\n",
        "   print(A[i][j])"
      ],
      "metadata": {
        "colab": {
          "base_uri": "https://localhost:8080/"
        },
        "id": "r1oxHZFPXEVD",
        "outputId": "b8a7f35b-3900-4889-d5b8-45a8dbf90c0e"
      },
      "execution_count": null,
      "outputs": [
        {
          "output_type": "stream",
          "name": "stdout",
          "text": [
            "1\n",
            "2\n",
            "3\n",
            "4\n",
            "5\n",
            "6\n",
            "7\n",
            "8\n",
            "9\n"
          ]
        }
      ]
    }
  ]
}