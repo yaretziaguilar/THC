{
  "nbformat": 4,
  "nbformat_minor": 0,
  "metadata": {
    "colab": {
      "provenance": [],
      "authorship_tag": "ABX9TyOaaydgyFWJtk3VHMuQ0ppe",
      "include_colab_link": true
    },
    "kernelspec": {
      "name": "python3",
      "display_name": "Python 3"
    },
    "language_info": {
      "name": "python"
    }
  },
  "cells": [
    {
      "cell_type": "markdown",
      "metadata": {
        "id": "view-in-github",
        "colab_type": "text"
      },
      "source": [
        "<a href=\"https://colab.research.google.com/github/yaretziaguilar/THC/blob/main/THC_Rocio_Pelaez_Tarea5.ipynb\" target=\"_parent\"><img src=\"https://colab.research.google.com/assets/colab-badge.svg\" alt=\"Open In Colab\"/></a>"
      ]
    },
    {
      "cell_type": "code",
      "execution_count": null,
      "metadata": {
        "id": "IL_dvMCRrtO7"
      },
      "outputs": [],
      "source": [
        "\n",
        "\"\"\"\n",
        "Tarea 5\n",
        "\n",
        "Pelaez Ventura Rocio\n",
        "\n",
        "computation . ipynb\n",
        "\"\"\""
      ]
    },
    {
      "cell_type": "code",
      "source": [
        "# Ejercicio 1\n",
        "\"\"\"Obtener el promedio de los valores en la lista.\"\"\"\n",
        "lista= [ ]\n",
        "suma=0\n",
        "for i in range(5):\n",
        "  numeros= int(input(\"Ingrese un valor de la lista a promediar: \"))\n",
        "  lista.insert(i, numeros)\n",
        "  suma= suma + lista[i]\n",
        "prom= suma/5\n",
        "print(\"Los valores a promediar son:\", lista)\n",
        "print(\"El promedio es: \", prom)\n",
        "\n"
      ],
      "metadata": {
        "colab": {
          "base_uri": "https://localhost:8080/"
        },
        "id": "qJB7Z1Ecvfk2",
        "outputId": "8fee289b-3bb4-4e20-9aae-6ff7f6070fae"
      },
      "execution_count": 10,
      "outputs": [
        {
          "output_type": "stream",
          "name": "stdout",
          "text": [
            "Ingrese un valor de la lista a promediar: 5\n",
            "Ingrese un valor de la lista a promediar: 10\n",
            "Ingrese un valor de la lista a promediar: 10\n",
            "Ingrese un valor de la lista a promediar: 9\n",
            "Ingrese un valor de la lista a promediar: 7\n",
            "Los valores a promediar son: [5, 10, 10, 9, 7]\n",
            "El promedio es:  8.2\n"
          ]
        }
      ]
    },
    {
      "cell_type": "code",
      "source": [
        "# Ejercicio 2\n",
        "\"\"\"\n",
        "Escribe un programa que encuentre el valor máximo y mínimo en una lista de\n",
        "números.\n",
        "\"\"\"\n",
        "numeros= [1, 25, 14, 15, 16, 20, 5, 8, 3]\n",
        "def min_max(numeros):\n",
        "  menor= numeros[0]\n",
        "  mayor= numeros[0]\n",
        "  for n in numeros:\n",
        "    if n < menor:\n",
        "      menor = n\n",
        "    if n > mayor:\n",
        "      mayor  = n\n",
        "  return menor, mayor\n",
        "print(min_max(numeros))"
      ],
      "metadata": {
        "colab": {
          "base_uri": "https://localhost:8080/"
        },
        "id": "hJboJBc1sHns",
        "outputId": "6a47b114-7ad0-4a17-86e3-ae153675c7b2"
      },
      "execution_count": 2,
      "outputs": [
        {
          "output_type": "stream",
          "name": "stdout",
          "text": [
            "(1, 25)\n"
          ]
        }
      ]
    },
    {
      "cell_type": "code",
      "source": [
        "# Ejercicio 3\n",
        "\"\"\"Dada una lista de números, crea dos listas separadas: una para números pares\n",
        "y otra para números impares\"\"\"\n",
        "lista= [1,5,6,8,9,10,15,7,20,25,34,37,36,41,58,55,60,64,75,79,82,63]\n",
        "for x in lista:\n",
        " if x % 2 == 0:\n",
        "  continue\n",
        " print (x, \"Es número impar\")\n",
        "\n",
        "for i in lista:\n",
        "  if i % 2 != 0:\n",
        "    continue\n",
        "  print(i, \"Es número par\")\n",
        "\n",
        "\n",
        "\n",
        "\n"
      ],
      "metadata": {
        "colab": {
          "base_uri": "https://localhost:8080/"
        },
        "id": "YMCZ3BCO2YIn",
        "outputId": "61b9c1d8-a6eb-41e1-afc7-18b32b6bd6d6"
      },
      "execution_count": 82,
      "outputs": [
        {
          "output_type": "stream",
          "name": "stdout",
          "text": [
            "1 Es número impar\n",
            "5 Es número impar\n",
            "9 Es número impar\n",
            "15 Es número impar\n",
            "7 Es número impar\n",
            "25 Es número impar\n",
            "37 Es número impar\n",
            "41 Es número impar\n",
            "55 Es número impar\n",
            "75 Es número impar\n",
            "79 Es número impar\n",
            "63 Es número impar\n",
            "6 Es número par\n",
            "8 Es número par\n",
            "10 Es número par\n",
            "20 Es número par\n",
            "34 Es número par\n",
            "36 Es número par\n",
            "58 Es número par\n",
            "60 Es número par\n",
            "64 Es número par\n",
            "82 Es número par\n"
          ]
        }
      ]
    },
    {
      "cell_type": "code",
      "source": [
        "#### FIN DEL PROGRAMA"
      ],
      "metadata": {
        "id": "p91aB1ky4fGS"
      },
      "execution_count": null,
      "outputs": []
    }
  ]
}