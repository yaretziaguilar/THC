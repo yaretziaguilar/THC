{
  "nbformat": 4,
  "nbformat_minor": 0,
  "metadata": {
    "colab": {
      "provenance": [],
      "authorship_tag": "ABX9TyOruB5gLf8MQCYNn9PyRo3v",
      "include_colab_link": true
    },
    "kernelspec": {
      "name": "python3",
      "display_name": "Python 3"
    },
    "language_info": {
      "name": "python"
    }
  },
  "cells": [
    {
      "cell_type": "markdown",
      "metadata": {
        "id": "view-in-github",
        "colab_type": "text"
      },
      "source": [
        "<a href=\"https://colab.research.google.com/github/yaretziaguilar/THC/blob/main/Proyecto1.ipynb\" target=\"_parent\"><img src=\"https://colab.research.google.com/assets/colab-badge.svg\" alt=\"Open In Colab\"/></a>"
      ]
    },
    {
      "cell_type": "code",
      "execution_count": 1,
      "metadata": {
        "colab": {
          "base_uri": "https://localhost:8080/"
        },
        "id": "f0umzYhCsK07",
        "outputId": "6551e25b-93d2-4e1c-b1f6-a1df8e15a94f"
      },
      "outputs": [
        {
          "output_type": "stream",
          "name": "stdout",
          "text": [
            "Mounted at mnt\n"
          ]
        }
      ],
      "source": [
        "from google.colab import drive\n",
        "drive.mount(\"mnt\")"
      ]
    },
    {
      "cell_type": "code",
      "source": [
        "import numpy as np\n",
        "class Grafica():\n",
        "  def __init__(self, nodos, arcos):\n",
        "      self.nodos = nodos\n",
        "      self.arcos = arcos\n",
        "      self.matriz = np.zeros((len(nodos), len(nodos)))\n",
        "      for x in arcos:\n",
        "        self.matriz[x[0],x[1]] = 1\n",
        "  def __str__(self):\n",
        "    return str(self.matriz)\n",
        "\n",
        "  def agregar_arcos(self,tupla):\n",
        "    self.matriz[tupla[0],tupla[1]] = 1\n",
        "\n",
        "  def agregar_nodos(self):\n",
        "    vertical=np.zeros(len(self.matriz),1)\n",
        "    horizontal=np.zeros(1,len(self.matriz)+1)\n",
        "    self.matriz=np.vstack((np.hstack((self.matriz,vertical)),horizontal))\n"
      ],
      "metadata": {
        "id": "loh8ItCDh2fD"
      },
      "execution_count": 51,
      "outputs": []
    },
    {
      "cell_type": "code",
      "source": [
        "import pandas as pd\n",
        "#Pregunta 1\n",
        "def construccion_pd  (ruta_nombre_del_archivo):\n",
        "  df=pd.read_excel(ruta_nombre_del_archivo)\n",
        "  Nodos=(list(range(len(df[\"Index\"]))))\n",
        "  x=list(df[\"Cited by\"])\n",
        "  Arcos=[]\n",
        "  for i in range (len(x)):\n",
        "    for j in x[i].split(','):\n",
        "      Arcos.append((int(j)-1,i))\n",
        "  return Grafica(Nodos, Arcos)\n",
        "\n",
        "print(construccion_pd(\"/content/mnt/MyDrive/Classroom/Programación 9292/Web.xlsx\"))"
      ],
      "metadata": {
        "colab": {
          "base_uri": "https://localhost:8080/"
        },
        "id": "0KAAeCg2v0fs",
        "outputId": "7270d904-5493-4df6-a9c0-ef0f85e97eca"
      },
      "execution_count": 52,
      "outputs": [
        {
          "output_type": "stream",
          "name": "stdout",
          "text": [
            "[[0. 1. 1. 0. 0. 0. 0. 0. 0. 0. 1. 0. 1. 0. 0. 0. 0. 0. 0. 0. 0. 0. 0. 0.\n",
            "  0. 1.]\n",
            " [1. 0. 0. 1. 0. 1. 0. 1. 1. 0. 0. 0. 0. 0. 0. 0. 0. 0. 0. 0. 0. 0. 0. 0.\n",
            "  0. 1.]\n",
            " [0. 0. 0. 1. 1. 0. 1. 0. 1. 0. 1. 0. 0. 0. 0. 0. 0. 0. 0. 0. 0. 0. 0. 0.\n",
            "  0. 0.]\n",
            " [0. 1. 0. 0. 0. 0. 0. 1. 0. 1. 0. 0. 0. 1. 0. 0. 0. 0. 0. 0. 0. 0. 0. 0.\n",
            "  0. 0.]\n",
            " [0. 0. 1. 0. 0. 0. 0. 1. 0. 0. 0. 1. 0. 1. 1. 0. 0. 0. 0. 0. 0. 0. 0. 0.\n",
            "  0. 1.]\n",
            " [0. 1. 0. 0. 0. 0. 0. 0. 0. 0. 0. 0. 0. 1. 1. 0. 0. 0. 0. 0. 0. 0. 0. 0.\n",
            "  0. 0.]\n",
            " [1. 0. 0. 0. 0. 0. 0. 0. 1. 1. 0. 0. 0. 0. 0. 0. 0. 0. 0. 0. 0. 0. 0. 0.\n",
            "  0. 1.]\n",
            " [0. 0. 0. 1. 0. 1. 0. 0. 0. 1. 0. 1. 0. 0. 0. 0. 0. 0. 0. 0. 0. 0. 0. 0.\n",
            "  0. 0.]\n",
            " [0. 1. 1. 0. 0. 0. 1. 0. 0. 0. 0. 0. 1. 0. 1. 0. 0. 0. 0. 0. 0. 0. 0. 0.\n",
            "  0. 1.]\n",
            " [0. 0. 0. 0. 0. 0. 1. 0. 0. 0. 0. 0. 0. 0. 0. 0. 0. 0. 0. 0. 0. 0. 0. 0.\n",
            "  0. 0.]\n",
            " [1. 0. 1. 0. 0. 0. 0. 0. 0. 0. 0. 0. 0. 0. 1. 0. 0. 0. 0. 0. 0. 0. 0. 0.\n",
            "  0. 0.]\n",
            " [0. 0. 0. 0. 1. 0. 0. 1. 0. 0. 0. 0. 1. 0. 0. 0. 0. 0. 0. 0. 0. 0. 0. 0.\n",
            "  0. 0.]\n",
            " [0. 0. 0. 0. 0. 1. 0. 0. 1. 0. 0. 1. 0. 0. 1. 0. 0. 0. 0. 0. 0. 0. 0. 0.\n",
            "  0. 0.]\n",
            " [0. 0. 0. 1. 0. 0. 0. 0. 0. 0. 0. 0. 0. 0. 0. 0. 0. 0. 0. 0. 0. 0. 0. 0.\n",
            "  0. 0.]\n",
            " [0. 0. 0. 0. 1. 1. 0. 0. 1. 0. 1. 0. 1. 0. 0. 0. 0. 0. 0. 0. 0. 0. 0. 0.\n",
            "  0. 0.]\n",
            " [0. 0. 0. 0. 0. 0. 0. 0. 0. 0. 0. 0. 0. 0. 0. 0. 1. 1. 0. 1. 0. 0. 0. 0.\n",
            "  0. 0.]\n",
            " [0. 0. 0. 0. 0. 0. 0. 0. 0. 0. 0. 0. 0. 0. 0. 1. 0. 0. 1. 0. 1. 0. 0. 0.\n",
            "  0. 0.]\n",
            " [0. 0. 0. 0. 0. 0. 0. 0. 0. 0. 0. 0. 0. 0. 0. 1. 0. 0. 0. 1. 0. 1. 0. 0.\n",
            "  0. 0.]\n",
            " [0. 0. 0. 0. 0. 0. 0. 0. 0. 0. 0. 0. 0. 0. 0. 0. 1. 0. 0. 0. 1. 0. 0. 1.\n",
            "  0. 0.]\n",
            " [0. 0. 0. 0. 0. 0. 0. 0. 0. 0. 0. 0. 0. 0. 0. 1. 0. 1. 0. 0. 0. 1. 1. 0.\n",
            "  0. 0.]\n",
            " [0. 0. 0. 0. 0. 0. 0. 0. 0. 0. 0. 0. 0. 0. 0. 0. 1. 0. 1. 0. 0. 0. 0. 1.\n",
            "  0. 0.]\n",
            " [0. 0. 0. 0. 0. 0. 0. 0. 0. 0. 0. 0. 0. 0. 0. 0. 0. 1. 0. 1. 0. 0. 0. 0.\n",
            "  1. 0.]\n",
            " [0. 0. 0. 0. 0. 0. 0. 0. 0. 0. 0. 0. 0. 0. 0. 0. 0. 0. 0. 1. 0. 0. 0. 1.\n",
            "  1. 0.]\n",
            " [0. 0. 0. 0. 0. 0. 0. 0. 0. 0. 0. 0. 0. 0. 0. 0. 0. 0. 1. 0. 1. 0. 1. 0.\n",
            "  1. 0.]\n",
            " [0. 0. 0. 0. 0. 0. 0. 0. 0. 0. 0. 0. 0. 0. 0. 0. 0. 0. 0. 0. 0. 1. 1. 1.\n",
            "  0. 0.]\n",
            " [0. 0. 0. 0. 0. 0. 0. 0. 0. 0. 0. 0. 0. 0. 0. 0. 0. 0. 0. 0. 0. 0. 0. 0.\n",
            "  0. 0.]]\n"
          ]
        }
      ]
    },
    {
      "cell_type": "code",
      "source": [
        "#PREGUNTA 2\n",
        "urls=(list(df[\"Website\"]))\n",
        "def crear_vectorpi(urls):\n",
        "    # Contar cuántas páginas terminan en .ru\n",
        "    s = sum(1 for url in urls if url.endswith('.ru'))\n",
        "\n",
        "    if s == 0:\n",
        "        print(\"No hay páginas con terminación .ru\")\n",
        "        return [0] * len(urls)\n",
        "\n",
        "    # Crear el vector pi\n",
        "    vector_pi = []\n",
        "    for url in urls:\n",
        "        if url.endswith('.ru'):\n",
        "            vector_pi.append(1/s)\n",
        "        else:\n",
        "            vector_pi.append(0)\n",
        "\n",
        "    return vector_pi\n",
        "# Crear el vector pi\n",
        "vector_pi = crear_vectorpi(urls)\n",
        "\n",
        "# resultados\n",
        "print(\"Websites:\")\n",
        "for i, url in enumerate(urls):\n",
        "    print(f\"{i+1}. {url}\")\n",
        "\n",
        "print(\"\\nVector pi:\")\n",
        "for i, pi in enumerate(vector_pi):\n",
        "    print(f\"pi{i+1} = {pi}\")\n",
        "# Verificamos que la suma de los elementos es 1\n",
        "print(f\"\\nSuma de los elementos de pi: {sum(vector_pi)}\")"
      ],
      "metadata": {
        "colab": {
          "base_uri": "https://localhost:8080/"
        },
        "id": "g4cmHA-wP7AQ",
        "outputId": "c6b49cfe-05f4-4c9f-94a8-4c096afaced6"
      },
      "execution_count": 48,
      "outputs": [
        {
          "output_type": "stream",
          "name": "stdout",
          "text": [
            "Websites:\n",
            "1. nytimes.com\n",
            "2. washingtonpost.com\n",
            "3. cnn.com\n",
            "4. foxnews.com\n",
            "5. forbes.com\n",
            "6. bloomberg.com\n",
            "7. wsj.com\n",
            "8. huffpost.com\n",
            "9. businessinsider.com\n",
            "10. npr.org\n",
            "11. techcrunch.com\n",
            "12. theverge.com\n",
            "13. reuters.com\n",
            "14. politico.com\n",
            "15. mashable.com\n",
            "16. yandex.ru\n",
            "17. lenta.ru\n",
            "18. gazeta.ru\n",
            "19. ria.ru\n",
            "20. rbk.ru\n",
            "21. tass.ru\n",
            "22. iz.ru\n",
            "23. kommersant.ru\n",
            "24. vedomosti.ru\n",
            "25. regnum.ru\n",
            "26. federalreserve.gov\n",
            "\n",
            "Vector pi:\n",
            "pi1 = 0\n",
            "pi2 = 0\n",
            "pi3 = 0\n",
            "pi4 = 0\n",
            "pi5 = 0\n",
            "pi6 = 0\n",
            "pi7 = 0\n",
            "pi8 = 0\n",
            "pi9 = 0\n",
            "pi10 = 0\n",
            "pi11 = 0\n",
            "pi12 = 0\n",
            "pi13 = 0\n",
            "pi14 = 0\n",
            "pi15 = 0\n",
            "pi16 = 0.1\n",
            "pi17 = 0.1\n",
            "pi18 = 0.1\n",
            "pi19 = 0.1\n",
            "pi20 = 0.1\n",
            "pi21 = 0.1\n",
            "pi22 = 0.1\n",
            "pi23 = 0.1\n",
            "pi24 = 0.1\n",
            "pi25 = 0.1\n",
            "pi26 = 0\n",
            "\n",
            "Suma de los elementos de pi: 0.9999999999999999\n"
          ]
        }
      ]
    },
    {
      "cell_type": "code",
      "source": [],
      "metadata": {
        "id": "drJ2_MTxzKsV"
      },
      "execution_count": null,
      "outputs": []
    }
  ]
}