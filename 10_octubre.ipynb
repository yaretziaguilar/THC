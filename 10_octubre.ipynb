{
  "nbformat": 4,
  "nbformat_minor": 0,
  "metadata": {
    "colab": {
      "provenance": [],
      "include_colab_link": true
    },
    "kernelspec": {
      "name": "python3",
      "display_name": "Python 3"
    },
    "language_info": {
      "name": "python"
    }
  },
  "cells": [
    {
      "cell_type": "markdown",
      "metadata": {
        "id": "view-in-github",
        "colab_type": "text"
      },
      "source": [
        "<a href=\"https://colab.research.google.com/github/yaretziaguilar/THC/blob/main/10_octubre.ipynb\" target=\"_parent\"><img src=\"https://colab.research.google.com/assets/colab-badge.svg\" alt=\"Open In Colab\"/></a>"
      ]
    },
    {
      "cell_type": "code",
      "execution_count": null,
      "metadata": {
        "id": "Y1ypLSjiunED"
      },
      "outputs": [],
      "source": [
        "# Yaretzi Guadalupe Agular Gómez\n",
        "#Rocio Pelaez Ventura"
      ]
    },
    {
      "cell_type": "code",
      "source": [
        "thisdict= {\n",
        "    \"brand\": \"Ford\",\n",
        "    \"model\":\" Mustang\",\n",
        "    \"year\":1964,\n",
        "    \"year\":2020\n",
        "}\n",
        "print(thisdict)"
      ],
      "metadata": {
        "colab": {
          "base_uri": "https://localhost:8080/"
        },
        "id": "S9lqgzOHvUsr",
        "outputId": "2d9c95bc-35fc-4d5b-c9d8-116f199df887"
      },
      "execution_count": null,
      "outputs": [
        {
          "output_type": "stream",
          "name": "stdout",
          "text": [
            "{'brand': 'Ford', 'model': ' Mustang', 'year': 2020}\n"
          ]
        }
      ]
    },
    {
      "cell_type": "code",
      "source": [
        "diccionario= {\"python\": 2.7, \"zope\": 2.13, \"plone\": 5.7}\n",
        "\n",
        "l=[]\n",
        "for i in diccionario.keys():\n",
        "  l.append(diccionario[i])\n",
        "\n",
        "print(l)"
      ],
      "metadata": {
        "colab": {
          "base_uri": "https://localhost:8080/"
        },
        "id": "17t9L-bWw2kk",
        "outputId": "92b64d90-0a4b-4b42-dbf6-152a217cbeb6"
      },
      "execution_count": null,
      "outputs": [
        {
          "output_type": "stream",
          "name": "stdout",
          "text": [
            "[2.7, 2.13, 5.7]\n"
          ]
        }
      ]
    },
    {
      "cell_type": "code",
      "source": [
        "import pandas as pd\n",
        "\n",
        "#crea un diccionario de datos\n",
        "datos= {\n",
        "    \"nombre\":[\"juan\", \"María\", \"Pedro\", \"Luisa\"],\n",
        "    \"edad\": [25, 28, 22, 30],\n",
        "    \"ciudad\": [\"Madrid\", \"Barcelona\", \"Valencia\", \"Sevilla\"]\n",
        "}\n",
        "\n",
        "#Crear un DataFrame a partir de un diccionario\n",
        "dataframe= pd.DataFrame(datos)\n",
        "\n",
        "#Mostrar en DataFrame\n",
        "print(dataframe)"
      ],
      "metadata": {
        "colab": {
          "base_uri": "https://localhost:8080/"
        },
        "id": "przOnunqyO3k",
        "outputId": "e56c39d2-c185-432a-a119-c7ca9092aa2a"
      },
      "execution_count": null,
      "outputs": [
        {
          "output_type": "stream",
          "name": "stdout",
          "text": [
            "  nombre  edad     ciudad\n",
            "0   juan    25     Madrid\n",
            "1  María    28  Barcelona\n",
            "2  Pedro    22   Valencia\n",
            "3  Luisa    30    Sevilla\n"
          ]
        }
      ]
    },
    {
      "cell_type": "code",
      "source": [
        "#crear una tupla\n",
        "mi_tupla= (1, 2, 3, \"Hola\", True)\n",
        "print(mi_tupla)"
      ],
      "metadata": {
        "colab": {
          "base_uri": "https://localhost:8080/"
        },
        "id": "uR-03XPtzXlF",
        "outputId": "41070fac-c2b3-4530-dbd3-be79724baa8a"
      },
      "execution_count": null,
      "outputs": [
        {
          "output_type": "stream",
          "name": "stdout",
          "text": [
            "(1, 2, 3, 'Hola', True)\n"
          ]
        }
      ]
    },
    {
      "cell_type": "code",
      "source": [
        "frutas=(\"fresa\", \"manzana\",\"pera\", \"mango\")\n",
        "for fruta in frutas:\n",
        "  print(fruta)"
      ],
      "metadata": {
        "colab": {
          "base_uri": "https://localhost:8080/"
        },
        "id": "tTe8dMdw0eul",
        "outputId": "364559bd-f7b6-4594-b94c-ee773e6a65a8"
      },
      "execution_count": null,
      "outputs": [
        {
          "output_type": "stream",
          "name": "stdout",
          "text": [
            "fresa\n",
            "manzana\n",
            "pera\n",
            "mango\n"
          ]
        }
      ]
    },
    {
      "cell_type": "code",
      "source": [
        "frutas=(\"fresa\", \"manzana\",\"pera\", \"mango\")\n",
        "if \"manzana\" in frutas:\n",
        "  print(\"Sí, la manzana está en la tupla.\")"
      ],
      "metadata": {
        "colab": {
          "base_uri": "https://localhost:8080/"
        },
        "id": "aEveJUFU1eZQ",
        "outputId": "5c97baa3-2244-4751-e27d-b829172fa5cc"
      },
      "execution_count": null,
      "outputs": [
        {
          "output_type": "stream",
          "name": "stdout",
          "text": [
            "Sí, la manzana está en la tupla.\n"
          ]
        }
      ]
    },
    {
      "cell_type": "code",
      "source": [
        "frutas=(\"fresa\",\"pera\", \"mango\")\n",
        "if \"manzana\" in frutas:\n",
        "  print(\"Sí, la manzana está en la tupla.\")\n",
        "else:\n",
        "  print(\"No está\")"
      ],
      "metadata": {
        "colab": {
          "base_uri": "https://localhost:8080/"
        },
        "id": "i4E5kkSf1udL",
        "outputId": "df3adbc2-82e8-492b-8801-796ec3dbd226"
      },
      "execution_count": null,
      "outputs": [
        {
          "output_type": "stream",
          "name": "stdout",
          "text": [
            "No está\n"
          ]
        }
      ]
    },
    {
      "cell_type": "code",
      "source": [
        "mi_funcion()\n",
        "def mi_funcion():\n",
        "  print(\"Hola,te saludo desde la funcion\")\n"
      ],
      "metadata": {
        "colab": {
          "base_uri": "https://localhost:8080/"
        },
        "id": "Ipijdgdg2EAt",
        "outputId": "e8245b6a-a20e-46fb-ae96-28d1a1062d56"
      },
      "execution_count": null,
      "outputs": [
        {
          "output_type": "stream",
          "name": "stdout",
          "text": [
            "Hola,te saludo desde la funcion\n"
          ]
        }
      ]
    },
    {
      "cell_type": "code",
      "source": [
        "def mi_funcion_nueva(fname):\n",
        "  print(\"Hola \"+fname+\" te saludo desde la funcion\")\n",
        "mi_funcion_nueva(\"roci, yare\")"
      ],
      "metadata": {
        "colab": {
          "base_uri": "https://localhost:8080/"
        },
        "id": "gybkIz9t3Ki9",
        "outputId": "0fab5d70-d2f9-465a-cbf8-c2694ce4ef48"
      },
      "execution_count": null,
      "outputs": [
        {
          "output_type": "stream",
          "name": "stdout",
          "text": [
            "Hola roci, yare te saludo desde la funcion\n"
          ]
        }
      ]
    },
    {
      "cell_type": "code",
      "source": [
        "def Nombre(fname,iname):\n",
        " print(\"Hola\"+fname+\"\"+iname+ \" te saludo desde la funcion\")\n",
        "Nombre(\" yare\",\" roci\")"
      ],
      "metadata": {
        "colab": {
          "base_uri": "https://localhost:8080/"
        },
        "id": "LBFESWSd4Ihu",
        "outputId": "26312dfe-9188-49d1-e3f2-c7712d0f0555"
      },
      "execution_count": null,
      "outputs": [
        {
          "output_type": "stream",
          "name": "stdout",
          "text": [
            "Hola yare roci te saludo desde la funcion\n"
          ]
        }
      ]
    },
    {
      "cell_type": "code",
      "source": [
        "def mi_funcion(*kids):\n",
        " print(\"El niño menor es \"+ kids[2])\n",
        "mi_funcion(\"david\", \"miriam\", \"esteban\",\"angel\")"
      ],
      "metadata": {
        "colab": {
          "base_uri": "https://localhost:8080/"
        },
        "id": "yvrYM0eE5JPe",
        "outputId": "f8a92926-1e80-471a-ba7b-a0081bc2e222"
      },
      "execution_count": null,
      "outputs": [
        {
          "output_type": "stream",
          "name": "stdout",
          "text": [
            "El niño menor es esteban\n"
          ]
        }
      ]
    },
    {
      "cell_type": "code",
      "source": [
        "def mi_funcion(**chamaco):\n",
        "  print(\"El apellido es \" + chamaco[\"Ape\"])\n",
        "mi_funcion(nombre=\"Aquiles\", Ape =\"Valentino\")"
      ],
      "metadata": {
        "colab": {
          "base_uri": "https://localhost:8080/"
        },
        "id": "xhKlh3sb5y_l",
        "outputId": "30c8214a-d7ae-4601-f81c-be38b7a4706d"
      },
      "execution_count": null,
      "outputs": [
        {
          "output_type": "stream",
          "name": "stdout",
          "text": [
            "El apellido es Valentino\n"
          ]
        }
      ]
    },
    {
      "cell_type": "code",
      "source": [
        "A=(5,9)\n",
        "B=(5,8)\n",
        "def sum_vec(A,B):\n",
        "  if len(A)==len(B):\n",
        "     n=len(A)\n",
        "     C=n*[0.0]\n",
        "     for i in range(n):\n",
        "      C[i]=A[i]+ B[i]\n",
        "      print(C)\n",
        "  else:\n",
        "    print(\"No es posible\")\n",
        "sum_vec(A,B)"
      ],
      "metadata": {
        "colab": {
          "base_uri": "https://localhost:8080/"
        },
        "id": "06F2hXGq-uSQ",
        "outputId": "c8e7233f-0104-49e6-96b6-9438f01241ac"
      },
      "execution_count": null,
      "outputs": [
        {
          "output_type": "stream",
          "name": "stdout",
          "text": [
            "[10, 0.0]\n",
            "[10, 17]\n"
          ]
        }
      ]
    }
  ]
}